{
 "cells": [
  {
   "cell_type": "markdown",
   "id": "c8504964-64e9-47fe-baed-43019d854b26",
   "metadata": {},
   "source": [
    "Quantum Merkle Trees - Arya Grayeli and John Dunbar\n",
    "\n",
    "We took a classical merkle tree and created a quantum version of it. A Merkle tree is \"a hash tree allows efficient and secure verification of the contents of a large data structure\" (https://en.wikipedia.org/wiki/Merkle_tree).\n",
    "\n",
    "We used the paper https://arxiv.org/pdf/2112.14317.pdf as a reference for implementing the Quantum Merkle Tree, but there is no open source code that has done this before.\n",
    "\n",
    "Quantum Merkle Trees can allow for faster commitment verification, as well as open up the possibilities for zero-knowledge verification using quantum computers."
   ]
  },
  {
   "cell_type": "code",
   "execution_count": 1,
   "id": "12577c81-e3a2-4e95-8fea-0c59db6a7067",
   "metadata": {},
   "outputs": [
    {
     "name": "stderr",
     "output_type": "stream",
     "text": [
      "<frozen importlib._bootstrap>:219: RuntimeWarning: scipy._lib.messagestream.MessageStream size changed, may indicate binary incompatibility. Expected 56 from C header, got 64 from PyObject\n"
     ]
    }
   ],
   "source": [
    "# Import libraries\n",
    "\n",
    "import numpy as np\n",
    "from numpy.linalg import qr\n",
    "\n",
    "# Importing standard Qiskit libraries\n",
    "from qiskit import QuantumCircuit, transpile, Aer, IBMQ, QuantumRegister, ClassicalRegister\n",
    "from qiskit.tools.jupyter import *\n",
    "from qiskit.visualization import *\n",
    "from ibm_quantum_widgets import *\n",
    "from qiskit.providers.aer import QasmSimulator\n",
    "from qiskit.extensions import UnitaryGate\n",
    "\n",
    "# Loading your IBM Quantum account(s)\n",
    "provider = IBMQ.load_account()"
   ]
  },
  {
   "cell_type": "code",
   "execution_count": 2,
   "id": "9941bfc5-aaa9-46c4-8706-9e9ad536c1fd",
   "metadata": {},
   "outputs": [],
   "source": [
    "# Defining quantum functions\n",
    "\n",
    "def qr_haar(N): # N = 3*b\n",
    "    \"\"\"Generates the matrix for the Quantum Haar Random Oracle Model (QHROM)\"\"\"\n",
    "    \n",
    "    A, B = np.random.normal(size=(N, N)), np.random.normal(size=(N, N))\n",
    "    Z = A + 1j * B\n",
    "\n",
    "    Q, R = qr(Z)\n",
    "    Lambda = np.diag([R[i, i] / np.abs(R[i, i]) for i in range(N)])\n",
    "    \n",
    "    return np.dot(Q, Lambda)\n",
    "\n",
    "def pool_qubits(counts):\n",
    "    \"\"\"Pool results from measure after a job is run into a set of output qubits\"\"\"\n",
    "    bits = max(counts, key=counts.get) # get config with max occurences\n",
    "    out = []\n",
    "    for i in range(len(bits)-1,-1,-1):\n",
    "        if bits[i] == '0':\n",
    "            out.append([1,0])\n",
    "        else:\n",
    "            out.append([0,1])\n",
    "    return out\n",
    "    \n",
    "# initialize backend\n",
    "backend = Aer.get_backend('statevector_simulator')"
   ]
  },
  {
   "cell_type": "markdown",
   "id": "f7bbd41d-8319-450c-9ea9-aebf5fa15592",
   "metadata": {},
   "source": [
    "With the libraries imported and some basic utility functions set up for the quantum circuits, we can now define the two entities that constitute the Merkle Tree.\n",
    "\n",
    "Prover: The person with access and control over the entire database. In a classical Merkle Tree, it would store the merged hashes, but here it is storing the merged qubits using QHROM.\n",
    "\n",
    "Verifier: The person who wants to make sure that Prover's database has not changed, is valid, and would like to make queries to retrieve data. It does this by requesting data from the prover, unwinding the merge operations of the Prover using the inverse QHROM, and getting an output that will tell it if the data has been modified and the value its querying.\n",
    "\n",
    "See the paper for reasoning behind the structure of this implementation"
   ]
  },
  {
   "cell_type": "code",
   "execution_count": 3,
   "id": "632f698c-47d4-4023-be33-13c41e164d4d",
   "metadata": {},
   "outputs": [],
   "source": [
    "class Prover:\n",
    "    \"\"\"The entity storing all the data\"\"\"\n",
    "    def __init__(self, b, l):\n",
    "        self.b = b\n",
    "        self.l = l\n",
    "        self.states = [None for j in range(2*l)]\n",
    "        self.G = qr_haar(2**(3*b))\n",
    "        x = UnitaryGate(self.G)\n",
    "        \n",
    "    def buildMerkleTree(self, sigma):\n",
    "        \"\"\"Build the merkle tree\"\"\"\n",
    "        assert len(sigma) == self.l\n",
    "\n",
    "        for j in range(l):\n",
    "            assert len(sigma[j]) == self.b\n",
    "            self.states[j] = [[1,0] for i in range(self.b)]\n",
    "            self.states[j+l] = sigma[j]\n",
    "\n",
    "        for u in range(self.l-1,0,-1):\n",
    "            self.haar_oracle(u) # 2u, 2u+1, u\n",
    "\n",
    "        return self.get_root()\n",
    "    \n",
    "    def get_R(self, i): # R is dictionary of node : state in prover\n",
    "        \"\"\"Get the set of ancestors of node i and their state values\"\"\"\n",
    "        assert i > 0 and i < 2*self.l\n",
    "        \n",
    "        R = dict()\n",
    "        while(i > 1):\n",
    "            i//=2\n",
    "            R[2*i] = self.states[2*i]\n",
    "            R[2*i+1] = self.states[2*i+1]\n",
    "        return R\n",
    "    \n",
    "    def get_root(self):\n",
    "        return self.states[1]\n",
    "    \n",
    "    def haar_oracle(self, u):\n",
    "        \"\"\"Applies QHROM to states of 2u, 2u+1 and u\"\"\"\n",
    "        qr = QuantumRegister(3*self.b)\n",
    "        circuit = QuantumCircuit(qr)\n",
    "        circuit.append(UnitaryGate(self.G), [i for i in range(3*self.b)])\n",
    "        \n",
    "        cr = ClassicalRegister(3*self.b)\n",
    "        circuit.add_register(cr)\n",
    "        \n",
    "        for i in range(self.b):\n",
    "            circuit.initialize(self.states[2*u][i], i)\n",
    "            circuit.initialize(self.states[2*u+1][i], i+self.b)\n",
    "            circuit.initialize(self.states[u][i], i+2*self.b)\n",
    "            \n",
    "        circuit.measure(qr, cr)\n",
    "        \n",
    "        out = pool_qubits(backend.run(circuit).result().get_counts())\n",
    "        \n",
    "        for i in range(self.b):\n",
    "            self.states[2*u][i] = out[i]\n",
    "            self.states[2*u+1][i] = out[i+self.b]\n",
    "            self.states[u][i] = out[i+2*self.b]\n",
    "        \n",
    "    \n",
    "class Verifier:\n",
    "    \"\"\"The entity communicating with the prover to query data and make sure its consistent\"\"\"\n",
    "    def __init__(self, p):\n",
    "        self.p = p # Prover\n",
    "        self.b = p.b\n",
    "        self.l = p.l\n",
    "        self.root = None\n",
    "        self.states = [None for j in range(2*l)]\n",
    "        \n",
    "    def build(self, inputs):\n",
    "        self.root = self.p.buildMerkleTree(inputs)\n",
    "    \n",
    "    def getBlockI(self, i):\n",
    "        \"\"\"Get the value of input @ index i, also checks if tree has been tampered with\"\"\"\n",
    "        if self.root != p.get_root():\n",
    "            print(\"Merkle tree has changed, rebuild\")\n",
    "            return None\n",
    "        \n",
    "        assert i >= 0 and i < self.l\n",
    "\n",
    "        i+=l\n",
    "        R = self.p.get_R(i)\n",
    "        R[1] = self.root\n",
    "        for j in range(2*l):\n",
    "            if j in R:\n",
    "                self.states[j] = R[j]\n",
    "            else:\n",
    "                self.states[j] = [[1,0] for i in range(self.b)]\n",
    "\n",
    "        for u in range(1,l):\n",
    "            if u not in R:\n",
    "                continue\n",
    "            self.inverse_haar_oracle(u) # 2u, 2u+1, u\n",
    "            \n",
    "        u = i//2\n",
    "        while u > 0:\n",
    "            z = self.states[u]\n",
    "            for x in z:\n",
    "                if x != [1,0]:\n",
    "                    return None\n",
    "            u//=2\n",
    "\n",
    "        return self.states[i]\n",
    "    \n",
    "    def inverse_haar_oracle(self, u):\n",
    "        \"\"\"Applies Inverse QHROM to states of 2u, 2u+1 and u to unmerge tree\"\"\"\n",
    "        qr = QuantumRegister(3*self.b)\n",
    "        circuit = QuantumCircuit(qr)\n",
    "        circuit.append(UnitaryGate(self.p.G), [i for i in range(3*self.b)])\n",
    "        circuit = circuit.inverse()\n",
    "        \n",
    "        cr = ClassicalRegister(3*self.b)\n",
    "        circuit.add_register(cr)\n",
    "        \n",
    "        for i in range(self.b):\n",
    "            circuit.initialize(self.states[2*u][i], i)\n",
    "            circuit.initialize(self.states[2*u+1][i], i+self.b)\n",
    "            circuit.initialize(self.states[u][i], i+2*self.b)\n",
    "            \n",
    "        circuit.measure(qr, cr)\n",
    "        \n",
    "        out = pool_qubits(backend.run(circuit).result().get_counts())\n",
    "        \n",
    "        for i in range(self.b):\n",
    "            self.states[2*u][i] = out[i]\n",
    "            self.states[2*u+1][i] = out[i+self.b]\n",
    "            self.states[u][i] = out[i+2*self.b]"
   ]
  },
  {
   "cell_type": "markdown",
   "id": "4f488c23-97ce-4e39-8dae-314116b59894",
   "metadata": {},
   "source": [
    "Now that the Prover and Verifier are set up, we can test to see if this actually works!\n",
    "\n",
    "We set b and l to small values to speed the process up for testing and give it an arbitrary input with unique qubit combinations. The inputs don't need to start out at qubits though, they could easily be text that you convert to qubits, or other forms of data that you want to store.\n",
    "\n",
    "These quick tests check 3 things:\n",
    "\n",
    "    1. When we query for an object, will it return the right one\n",
    "    2. When the database slightly changes, can the Verifier check that the outputs from the Prover are incorrect\n",
    "    3. If we completely change our inputs and rebuild the tree, can the Verifier check that the root has been modified\n",
    "    \n",
    "As you can see, all the tests pass. This suggests that the Quantum Merkle Tree really works!\n",
    "\n",
    "Feel free to play around with inputs, just make sure they are of valid format. Also be aware that because it is a tree, increasing some values (b and l) will make the runtime increase dramatically."
   ]
  },
  {
   "cell_type": "code",
   "execution_count": 4,
   "id": "24a61794-6fcf-4761-9cd4-f2242a84d72c",
   "metadata": {},
   "outputs": [
    {
     "name": "stdout",
     "output_type": "stream",
     "text": [
      "Models Setup\n",
      "Merkle TreeBuilt\n",
      "Checked querying properly\n",
      "Checked ability to catch minor changes in the database\n",
      "Merkle tree has changed, rebuild\n",
      "Checked ability to catch entire database being reloaded\n"
     ]
    }
   ],
   "source": [
    "b = 2\n",
    "\n",
    "inputs = [[[1,0],[1,0]], [[1,0],[0,1]], [[0,1],[1,0]], [[0,1],[0,1]]]\n",
    "\n",
    "# ideally l is a power of 2 to get a perfectly balanced tree, so add dummy qubits\n",
    "diff = 1<<(len(inputs)).bit_length() # get smallest power of 2 >= len(inputs)\n",
    "inputs+=[[[1,0] for i in range(b)] for j in range(len(inputs)-diff)]\n",
    "\n",
    "l = len(inputs)\n",
    "p = Prover(b,l)\n",
    "v = Verifier(p)\n",
    "print(\"Models Setup\")\n",
    "\n",
    "v.build(inputs)\n",
    "print(\"Merkle TreeBuilt\")\n",
    "\n",
    "for i,val in enumerate(inputs):\n",
    "    assert v.getBlockI(i) == val\n",
    "    if i + 1 == l: continue\n",
    "    assert v.getBlockI(i+1) != val\n",
    "print(\"Checked querying properly\")\n",
    "    \n",
    "temp = p.states[1][0][0]\n",
    "p.states[1][0][0] = p.states[1][0][1]\n",
    "p.states[1][0][1] = temp\n",
    "assert v.getBlockI(0) == None\n",
    "print(\"Checked ability to catch minor changes in the database\")\n",
    "\n",
    "inputs[0][0] = [0,1]\n",
    "p.buildMerkleTree(inputs)\n",
    "assert v.getBlockI(0) == None\n",
    "print(\"Checked ability to catch entire database being reloaded\")"
   ]
  }
 ],
 "metadata": {
  "kernelspec": {
   "display_name": "Python 3 (ipykernel)",
   "language": "python",
   "name": "python3"
  },
  "language_info": {
   "codemirror_mode": {
    "name": "ipython",
    "version": 3
   },
   "file_extension": ".py",
   "mimetype": "text/x-python",
   "name": "python",
   "nbconvert_exporter": "python",
   "pygments_lexer": "ipython3",
   "version": "3.8.13"
  },
  "widgets": {
   "application/vnd.jupyter.widget-state+json": {
    "state": {
     "1128b7b10c864c2db1c7fda0adaef2e9": {
      "model_module": "@jupyter-widgets/base",
      "model_module_version": "1.2.0",
      "model_name": "LayoutModel",
      "state": {
       "width": "70px"
      }
     },
     "3049fe553a4c4c5a8a447b424a547f7b": {
      "model_module": "@jupyter-widgets/controls",
      "model_module_version": "1.5.0",
      "model_name": "HTMLModel",
      "state": {
       "layout": "IPY_MODEL_eca99373fc004a9d86911384ebd7495d",
       "style": "IPY_MODEL_3b136eecfb7d4a55980b967a77872cb4",
       "value": "<h5>Backend</h5>"
      }
     },
     "3766965cc8104be5bde00da7cc269476": {
      "model_module": "@jupyter-widgets/controls",
      "model_module_version": "1.5.0",
      "model_name": "HTMLModel",
      "state": {
       "layout": "IPY_MODEL_d4f3c7b7f4044477a31f93fcb30fe98c",
       "style": "IPY_MODEL_df9d4f503d524d629bf35d95a4b26d9d",
       "value": "<p style='font-family: IBM Plex Sans, Arial, Helvetica, sans-serif; font-size: 20px; font-weight: medium;'>Circuit Properties</p>"
      }
     },
     "393bd82389924f1da8e6ad98e032d1fe": {
      "model_module": "@jupyter-widgets/base",
      "model_module_version": "1.2.0",
      "model_name": "LayoutModel",
      "state": {
       "width": "190px"
      }
     },
     "3b136eecfb7d4a55980b967a77872cb4": {
      "model_module": "@jupyter-widgets/controls",
      "model_module_version": "1.5.0",
      "model_name": "DescriptionStyleModel",
      "state": {
       "description_width": ""
      }
     },
     "555d6cf34ab44b0788061fe06ab74310": {
      "model_module": "@jupyter-widgets/base",
      "model_module_version": "1.2.0",
      "model_name": "LayoutModel",
      "state": {
       "grid_template_areas": "\n                                       \". . . . right \"\n                                        ",
       "grid_template_columns": "20% 20% 20% 20% 20%",
       "width": "100%"
      }
     },
     "57f4aa49151042a7a2d0bc6160cb30b3": {
      "model_module": "@jupyter-widgets/base",
      "model_module_version": "1.2.0",
      "model_name": "LayoutModel",
      "state": {}
     },
     "58e7391ebf20486985b4ac9e776212c8": {
      "model_module": "@jupyter-widgets/controls",
      "model_module_version": "1.5.0",
      "model_name": "HTMLModel",
      "state": {
       "layout": "IPY_MODEL_8af3031b03d5441c8b9e510b741597c5",
       "style": "IPY_MODEL_ebb8777305704ad8bbf01389a8f5b8cd",
       "value": "<h5>Status</h5>"
      }
     },
     "61d5febdd2f7493e8e5d395b146ad249": {
      "model_module": "@jupyter-widgets/controls",
      "model_module_version": "1.5.0",
      "model_name": "GridBoxModel",
      "state": {
       "children": [
        "IPY_MODEL_d1fe44fde5d2462ab1541e6d80abd2f4"
       ],
       "layout": "IPY_MODEL_555d6cf34ab44b0788061fe06ab74310"
      }
     },
     "74d0299b97fc4d3a8002c9b811b90a31": {
      "model_module": "@jupyter-widgets/controls",
      "model_module_version": "1.5.0",
      "model_name": "HTMLModel",
      "state": {
       "layout": "IPY_MODEL_57f4aa49151042a7a2d0bc6160cb30b3",
       "style": "IPY_MODEL_da3383c4ee7248028f00cc23a1ebb077",
       "value": "<h5>Message</h5>"
      }
     },
     "7779eb9f88b1439b8acd980821e7ab79": {
      "model_module": "@jupyter-widgets/controls",
      "model_module_version": "1.5.0",
      "model_name": "ButtonStyleModel",
      "state": {}
     },
     "83202d1ef43145f388b9373fc522f159": {
      "model_module": "@jupyter-widgets/base",
      "model_module_version": "1.2.0",
      "model_name": "LayoutModel",
      "state": {
       "margin": "0px 0px 0px 37px",
       "width": "600px"
      }
     },
     "8af3031b03d5441c8b9e510b741597c5": {
      "model_module": "@jupyter-widgets/base",
      "model_module_version": "1.2.0",
      "model_name": "LayoutModel",
      "state": {
       "width": "95px"
      }
     },
     "8b64b7af1dc245f2b5bdda18eed8d9ae": {
      "model_module": "@jupyter-widgets/controls",
      "model_module_version": "1.5.0",
      "model_name": "HTMLModel",
      "state": {
       "layout": "IPY_MODEL_1128b7b10c864c2db1c7fda0adaef2e9",
       "style": "IPY_MODEL_a8a9de6be3144f84904effb7ff6a8a17",
       "value": "<h5>Queue</h5>"
      }
     },
     "a8a9de6be3144f84904effb7ff6a8a17": {
      "model_module": "@jupyter-widgets/controls",
      "model_module_version": "1.5.0",
      "model_name": "DescriptionStyleModel",
      "state": {
       "description_width": ""
      }
     },
     "aa4fa61d577745cfb29c6810b3d52a48": {
      "model_module": "@jupyter-widgets/controls",
      "model_module_version": "1.5.0",
      "model_name": "HTMLModel",
      "state": {
       "layout": "IPY_MODEL_393bd82389924f1da8e6ad98e032d1fe",
       "style": "IPY_MODEL_ae62d504651c4f3eb1d2439d6b2ab9f8",
       "value": "<h5>Job ID</h5>"
      }
     },
     "acb97fc9155848249ecf523cf45d4d0d": {
      "model_module": "@jupyter-widgets/base",
      "model_module_version": "1.2.0",
      "model_name": "LayoutModel",
      "state": {
       "grid_area": "right",
       "padding": "0px 0px 0px 0px",
       "width": "70px"
      }
     },
     "ae62d504651c4f3eb1d2439d6b2ab9f8": {
      "model_module": "@jupyter-widgets/controls",
      "model_module_version": "1.5.0",
      "model_name": "DescriptionStyleModel",
      "state": {
       "description_width": ""
      }
     },
     "c2bd7dd56c824de09f37ef022849533b": {
      "model_module": "@jupyter-widgets/controls",
      "model_module_version": "1.5.0",
      "model_name": "HBoxModel",
      "state": {
       "children": [
        "IPY_MODEL_aa4fa61d577745cfb29c6810b3d52a48",
        "IPY_MODEL_3049fe553a4c4c5a8a447b424a547f7b",
        "IPY_MODEL_58e7391ebf20486985b4ac9e776212c8",
        "IPY_MODEL_8b64b7af1dc245f2b5bdda18eed8d9ae",
        "IPY_MODEL_74d0299b97fc4d3a8002c9b811b90a31"
       ],
       "layout": "IPY_MODEL_83202d1ef43145f388b9373fc522f159"
      }
     },
     "d1fe44fde5d2462ab1541e6d80abd2f4": {
      "model_module": "@jupyter-widgets/controls",
      "model_module_version": "1.5.0",
      "model_name": "ButtonModel",
      "state": {
       "button_style": "primary",
       "description": "Clear",
       "layout": "IPY_MODEL_acb97fc9155848249ecf523cf45d4d0d",
       "style": "IPY_MODEL_7779eb9f88b1439b8acd980821e7ab79"
      }
     },
     "d4f3c7b7f4044477a31f93fcb30fe98c": {
      "model_module": "@jupyter-widgets/base",
      "model_module_version": "1.2.0",
      "model_name": "LayoutModel",
      "state": {
       "margin": "0px 0px 10px 0px"
      }
     },
     "da3383c4ee7248028f00cc23a1ebb077": {
      "model_module": "@jupyter-widgets/controls",
      "model_module_version": "1.5.0",
      "model_name": "DescriptionStyleModel",
      "state": {
       "description_width": ""
      }
     },
     "df9d4f503d524d629bf35d95a4b26d9d": {
      "model_module": "@jupyter-widgets/controls",
      "model_module_version": "1.5.0",
      "model_name": "DescriptionStyleModel",
      "state": {
       "description_width": ""
      }
     },
     "ebb8777305704ad8bbf01389a8f5b8cd": {
      "model_module": "@jupyter-widgets/controls",
      "model_module_version": "1.5.0",
      "model_name": "DescriptionStyleModel",
      "state": {
       "description_width": ""
      }
     },
     "eca99373fc004a9d86911384ebd7495d": {
      "model_module": "@jupyter-widgets/base",
      "model_module_version": "1.2.0",
      "model_name": "LayoutModel",
      "state": {
       "width": "145px"
      }
     }
    },
    "version_major": 2,
    "version_minor": 0
   }
  }
 },
 "nbformat": 4,
 "nbformat_minor": 5
}
