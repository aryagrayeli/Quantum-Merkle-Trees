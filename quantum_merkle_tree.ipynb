{
 "cells": [
  {
   "cell_type": "code",
   "execution_count": 5,
   "id": "5470231c-3d34-4231-ab30-ef8a9fca983b",
   "metadata": {},
   "outputs": [
    {
     "name": "stderr",
     "output_type": "stream",
     "text": [
      "ibmqfactory.load_account:WARNING:2022-10-23 22:02:56,535: Credentials are already in use. The existing account in the session will be replaced.\n"
     ]
    }
   ],
   "source": [
    "import numpy as np\n",
    "from numpy.linalg import qr\n",
    "\n",
    "# Importing standard Qiskit libraries\n",
    "from qiskit import QuantumCircuit, transpile, Aer, IBMQ, QuantumRegister, ClassicalRegister\n",
    "from qiskit.tools.jupyter import *\n",
    "from qiskit.visualization import *\n",
    "from ibm_quantum_widgets import *\n",
    "from qiskit.providers.aer import QasmSimulator\n",
    "from qiskit.extensions import UnitaryGate\n",
    "\n",
    "# Loading your IBM Quantum account(s)\n",
    "provider = IBMQ.load_account()"
   ]
  },
  {
   "cell_type": "code",
   "execution_count": 9,
   "id": "9941bfc5-aaa9-46c4-8706-9e9ad536c1fd",
   "metadata": {},
   "outputs": [],
   "source": [
    "def qr_haar(N): # N = 3*b\n",
    "    A, B = np.random.normal(size=(N, N)), np.random.normal(size=(N, N))\n",
    "    Z = A + 1j * B\n",
    "\n",
    "    Q, R = qr(Z)\n",
    "    Lambda = np.diag([R[i, i] / np.abs(R[i, i]) for i in range(N)])\n",
    "    \n",
    "    return np.dot(Q, Lambda)\n",
    "\n",
    "def random_qubit():\n",
    "    if np.random.random() < 0.5:\n",
    "        return [1,0]\n",
    "    return [0,1]\n",
    "\n",
    "def pool_qubits(counts):\n",
    "    bits = max(counts, key=counts.get)\n",
    "    out = []\n",
    "    for i in range(len(bits)-1,-1,-1):\n",
    "        if bits[i] == '0':\n",
    "            out.append([1,0])\n",
    "        else:\n",
    "            out.append([0,1])\n",
    "    return out\n",
    "    \n",
    "\n",
    "backend = Aer.get_backend('statevector_simulator')"
   ]
  },
  {
   "cell_type": "code",
   "execution_count": 20,
   "id": "632f698c-47d4-4023-be33-13c41e164d4d",
   "metadata": {},
   "outputs": [],
   "source": [
    "class Prover:\n",
    "    def __init__(self, b, l):\n",
    "        self.b = b\n",
    "        self.l = l\n",
    "        self.states = [None for j in range(2*l)]\n",
    "        self.G = qr_haar(2**(3*b))\n",
    "        x = UnitaryGate(self.G)\n",
    "        \n",
    "    def buildMerkleTree(self, sigma):\n",
    "        assert len(sigma) == self.l\n",
    "\n",
    "        for j in range(l):\n",
    "            assert len(sigma[j]) == self.b\n",
    "            self.states[j] = [[1,0] for i in range(self.b)]\n",
    "            self.states[j+l] = sigma[j]\n",
    "\n",
    "        for u in range(self.l-1,0,-1):\n",
    "            self.haar_oracle(u) # 2u, 2u+1, u\n",
    "\n",
    "        return self.get_root()\n",
    "    \n",
    "    def get_R(self, i): # R is dictionary of node : state in prover\n",
    "        assert i > 0 and i < 2*l\n",
    "        \n",
    "        R = dict()\n",
    "        while(i > 1):\n",
    "            i//=2\n",
    "            R[2*i] = self.states[2*i]\n",
    "            R[2*i+1] = self.states[2*i+1]\n",
    "        return R\n",
    "    \n",
    "    def get_root(self):\n",
    "        return self.states[1]\n",
    "    \n",
    "    def haar_oracle(self, u):\n",
    "        qr = QuantumRegister(3*self.b)\n",
    "        circuit = QuantumCircuit(qr)\n",
    "        circuit.append(UnitaryGate(self.G), [i for i in range(3*self.b)])\n",
    "        \n",
    "        cr = ClassicalRegister(3*self.b)\n",
    "        circuit.add_register(cr)\n",
    "        \n",
    "        for i in range(self.b):\n",
    "            circuit.initialize(self.states[2*u][i], i)\n",
    "            circuit.initialize(self.states[2*u+1][i], i+self.b)\n",
    "            circuit.initialize(self.states[u][i], i+2*self.b)\n",
    "            \n",
    "        circuit.measure(qr, cr)\n",
    "        \n",
    "        out = pool_qubits(backend.run(circuit).result().get_counts())\n",
    "        \n",
    "        for i in range(self.b):\n",
    "            self.states[2*u][i] = out[i]\n",
    "            self.states[2*u+1][i] = out[i+self.b]\n",
    "            self.states[u][i] = out[i+2*self.b]\n",
    "        \n",
    "    \n",
    "class Verifier:\n",
    "    def __init__(self, p):\n",
    "        self.p = p\n",
    "        self.b = p.b\n",
    "        self.l = p.l\n",
    "        self.root = None\n",
    "        self.states = [None for j in range(2*l)]\n",
    "        \n",
    "    def build(self, inputs):\n",
    "        self.root = self.p.buildMerkleTree(inputs)\n",
    "    \n",
    "    def getBlockI(self, i):\n",
    "        if self.root != p.get_root():\n",
    "            print(\"Merkle tree has changed, rebuild\")\n",
    "            return None\n",
    "        \n",
    "        assert i >= 0 and i < l\n",
    "\n",
    "        i+=l\n",
    "        R = self.p.get_R(i)\n",
    "        R[1] = self.root\n",
    "        for j in range(2*l):\n",
    "            if j in R:\n",
    "                self.states[j] = R[j]\n",
    "            else:\n",
    "                self.states[j] = [[1,0] for i in range(self.b)]\n",
    "\n",
    "        for u in range(1,l):\n",
    "            if u not in R:\n",
    "                continue\n",
    "            self.inverse_haar_oracle(u) # 2u, 2u+1, u\n",
    "            \n",
    "        u = i//2\n",
    "        while i > 0:\n",
    "            z = self.states[u]\n",
    "            for x in z:\n",
    "                if x != [1,0]:\n",
    "                    return None\n",
    "            i//=2\n",
    "\n",
    "        return self.states[i]\n",
    "    \n",
    "    def inverse_haar_oracle(self, u):\n",
    "        qr = QuantumRegister(3*self.b)\n",
    "        circuit = QuantumCircuit(qr)\n",
    "        circuit.append(UnitaryGate(self.p.G), [i for i in range(3*self.b)])\n",
    "        circuit = circuit.inverse()\n",
    "        \n",
    "        cr = ClassicalRegister(3*self.b)\n",
    "        circuit.add_register(cr)\n",
    "        \n",
    "        for i in range(self.b):\n",
    "            circuit.initialize(self.states[2*u][i], i)\n",
    "            circuit.initialize(self.states[2*u+1][i], i+self.b)\n",
    "            circuit.initialize(self.states[u][i], i+2*self.b)\n",
    "            \n",
    "        circuit.measure(qr, cr)\n",
    "        \n",
    "        out = pool_qubits(backend.run(circuit).result().get_counts())\n",
    "        \n",
    "        for i in range(self.b):\n",
    "            self.states[2*u][i] = out[i]\n",
    "            self.states[2*u+1][i] = out[i+self.b]\n",
    "            self.states[u][i] = out[i+2*self.b]"
   ]
  },
  {
   "cell_type": "code",
   "execution_count": 23,
   "id": "24a61794-6fcf-4761-9cd4-f2242a84d72c",
   "metadata": {},
   "outputs": [
    {
     "name": "stdout",
     "output_type": "stream",
     "text": [
      "data\n",
      "Prover\n",
      "verify\n",
      "Setup\n",
      "Built\n",
      "[[1, 0], [1, 0]] [[1, 0], [1, 0]] [[1, 0], [1, 0]]\n"
     ]
    },
    {
     "ename": "AssertionError",
     "evalue": "",
     "output_type": "error",
     "traceback": [
      "\u001b[0;31m---------------------------------------------------------------------------\u001b[0m",
      "\u001b[0;31mAssertionError\u001b[0m                            Traceback (most recent call last)",
      "Input \u001b[0;32mIn [23]\u001b[0m, in \u001b[0;36m<cell line: 20>\u001b[0;34m()\u001b[0m\n\u001b[1;32m     21\u001b[0m     \u001b[38;5;28;01massert\u001b[39;00m v\u001b[38;5;241m.\u001b[39mgetBlockI(i) \u001b[38;5;241m==\u001b[39m val\n\u001b[1;32m     22\u001b[0m     \u001b[38;5;28mprint\u001b[39m(v\u001b[38;5;241m.\u001b[39mgetBlockI(i), v\u001b[38;5;241m.\u001b[39mgetBlockI(i\u001b[38;5;241m+\u001b[39m\u001b[38;5;241m1\u001b[39m), val)\n\u001b[0;32m---> 23\u001b[0m     \u001b[38;5;28;01massert\u001b[39;00m v\u001b[38;5;241m.\u001b[39mgetBlockI(i\u001b[38;5;241m+\u001b[39m\u001b[38;5;241m1\u001b[39m) \u001b[38;5;241m!=\u001b[39m val\n\u001b[1;32m     25\u001b[0m \u001b[38;5;28mprint\u001b[39m(\u001b[38;5;124m\"\u001b[39m\u001b[38;5;124mChecked 1\u001b[39m\u001b[38;5;124m\"\u001b[39m)\n\u001b[1;32m     27\u001b[0m p\u001b[38;5;241m.\u001b[39mstates[l][\u001b[38;5;241m0\u001b[39m] \u001b[38;5;241m=\u001b[39m \u001b[38;5;241m1\u001b[39m \u001b[38;5;241m-\u001b[39m p\u001b[38;5;241m.\u001b[39mstates[l][\u001b[38;5;241m0\u001b[39m]\n",
      "\u001b[0;31mAssertionError\u001b[0m: "
     ]
    }
   ],
   "source": [
    "b = 2\n",
    "l = 4\n",
    "\n",
    "# random_inputs = [[random_qubit() for i in range(b)] for j in range(l)]\n",
    "inputs = [[[1,0],[1,0]], [[1,0],[0,1]], [[0,1],[1,0]], [[0,1],[0,1]]]\n",
    "\n",
    "diff = 1<<(len(inputs)-1).bit_length() # get smallest power of 2 >= len(inputs)\n",
    "inputs+=[[[1,0] for i in range(b)] for j in range(diff)]\n",
    "print(\"data\")\n",
    "l = len(inputs)\n",
    "p = Prover(b,l)\n",
    "print(\"Prover\")\n",
    "v = Verifier(p)\n",
    "print(\"verify\")\n",
    "\n",
    "print(\"Setup\")\n",
    "v.build(inputs)\n",
    "print(\"Built\")\n",
    "\n",
    "for i,val in enumerate(inputs):\n",
    "    assert v.getBlockI(i) == val\n",
    "    assert v.getBlockI(i+1) != val\n",
    "    \n",
    "print(\"Checked 1\")\n",
    "    \n",
    "p.states[l][0] = 1 - p.states[l][0]\n",
    "assert v.getBlockI(0) == None\n",
    "\n",
    "inputs[0][0] = 1 - inputs[0][0]\n",
    "p.buildMerkleTree(inputs)\n",
    "assert v.getBlockI(0) == None"
   ]
  },
  {
   "cell_type": "code",
   "execution_count": null,
   "id": "8b36b9b8-5f6b-486b-abf1-45a05161c1dc",
   "metadata": {},
   "outputs": [],
   "source": []
  },
  {
   "cell_type": "code",
   "execution_count": null,
   "id": "5d62bb1d-7614-4ee7-972f-96fe01eabef9",
   "metadata": {},
   "outputs": [],
   "source": []
  }
 ],
 "metadata": {
  "kernelspec": {
   "display_name": "Python 3 (ipykernel)",
   "language": "python",
   "name": "python3"
  },
  "language_info": {
   "codemirror_mode": {
    "name": "ipython",
    "version": 3
   },
   "file_extension": ".py",
   "mimetype": "text/x-python",
   "name": "python",
   "nbconvert_exporter": "python",
   "pygments_lexer": "ipython3",
   "version": "3.8.13"
  },
  "widgets": {
   "application/vnd.jupyter.widget-state+json": {
    "state": {
     "02a9074a9ba0478ebb5afb6b8408091e": {
      "model_module": "@jupyter-widgets/base",
      "model_module_version": "1.2.0",
      "model_name": "LayoutModel",
      "state": {
       "width": "70px"
      }
     },
     "08975ff6ff4b4149bf7eb955e8d3d514": {
      "model_module": "@jupyter-widgets/base",
      "model_module_version": "1.2.0",
      "model_name": "LayoutModel",
      "state": {}
     },
     "09294fd6bb264350885a15782e9d170c": {
      "model_module": "@jupyter-widgets/controls",
      "model_module_version": "1.5.0",
      "model_name": "HTMLModel",
      "state": {
       "layout": "IPY_MODEL_570da82a167e41848111f4b89ac639ad",
       "style": "IPY_MODEL_6758389f70a243019db4e2b070709470",
       "value": "<h5>Backend</h5>"
      }
     },
     "2e2f2a51c51747e5a03fe6b957b9ed1b": {
      "model_module": "@jupyter-widgets/base",
      "model_module_version": "1.2.0",
      "model_name": "LayoutModel",
      "state": {
       "width": "190px"
      }
     },
     "3309ba6eb5c9499bae77a33996969881": {
      "model_module": "@jupyter-widgets/base",
      "model_module_version": "1.2.0",
      "model_name": "LayoutModel",
      "state": {
       "margin": "0px 0px 10px 0px"
      }
     },
     "3b44d1d1397e49d9966a6950a04580f5": {
      "model_module": "@jupyter-widgets/base",
      "model_module_version": "1.2.0",
      "model_name": "LayoutModel",
      "state": {
       "margin": "0px 0px 0px 37px",
       "width": "600px"
      }
     },
     "3bcc15097e784892a0ffab9be7d4043f": {
      "model_module": "@jupyter-widgets/base",
      "model_module_version": "1.2.0",
      "model_name": "LayoutModel",
      "state": {
       "grid_template_areas": "\n                                       \". . . . right \"\n                                        ",
       "grid_template_columns": "20% 20% 20% 20% 20%",
       "width": "100%"
      }
     },
     "3e872d8fc65545bc9b92c3ffa05a82f9": {
      "model_module": "@jupyter-widgets/controls",
      "model_module_version": "1.5.0",
      "model_name": "DescriptionStyleModel",
      "state": {
       "description_width": ""
      }
     },
     "4942bde0d4694e8f83b5ab5a435e1118": {
      "model_module": "@jupyter-widgets/controls",
      "model_module_version": "1.5.0",
      "model_name": "HTMLModel",
      "state": {
       "layout": "IPY_MODEL_3309ba6eb5c9499bae77a33996969881",
       "style": "IPY_MODEL_3e872d8fc65545bc9b92c3ffa05a82f9",
       "value": "<p style='font-family: IBM Plex Sans, Arial, Helvetica, sans-serif; font-size: 20px; font-weight: medium;'>Circuit Properties</p>"
      }
     },
     "538b6855baf44736a5887d3b4fdb09d1": {
      "model_module": "@jupyter-widgets/controls",
      "model_module_version": "1.5.0",
      "model_name": "HTMLModel",
      "state": {
       "layout": "IPY_MODEL_55b7e1ef0a9b49e587abf143e360e6d7",
       "style": "IPY_MODEL_b97bb14dfa4d4f228c364f28561c65c9",
       "value": "<h5>Status</h5>"
      }
     },
     "55b7e1ef0a9b49e587abf143e360e6d7": {
      "model_module": "@jupyter-widgets/base",
      "model_module_version": "1.2.0",
      "model_name": "LayoutModel",
      "state": {
       "width": "95px"
      }
     },
     "570da82a167e41848111f4b89ac639ad": {
      "model_module": "@jupyter-widgets/base",
      "model_module_version": "1.2.0",
      "model_name": "LayoutModel",
      "state": {
       "width": "145px"
      }
     },
     "5e43bc5e2c2848f8b8dc7c29eb724fcd": {
      "model_module": "@jupyter-widgets/controls",
      "model_module_version": "1.5.0",
      "model_name": "HTMLModel",
      "state": {
       "layout": "IPY_MODEL_2e2f2a51c51747e5a03fe6b957b9ed1b",
       "style": "IPY_MODEL_ade8527eec9d4f40a19c6ecc7c55d9b2",
       "value": "<h5>Job ID</h5>"
      }
     },
     "6758389f70a243019db4e2b070709470": {
      "model_module": "@jupyter-widgets/controls",
      "model_module_version": "1.5.0",
      "model_name": "DescriptionStyleModel",
      "state": {
       "description_width": ""
      }
     },
     "758494e56a5d48cd87c96dca335cc0dd": {
      "model_module": "@jupyter-widgets/controls",
      "model_module_version": "1.5.0",
      "model_name": "HTMLModel",
      "state": {
       "layout": "IPY_MODEL_02a9074a9ba0478ebb5afb6b8408091e",
       "style": "IPY_MODEL_a573328401224ed69da7668269ee508b",
       "value": "<h5>Queue</h5>"
      }
     },
     "7d5c4ccbe0da4947bc30f184008257cc": {
      "model_module": "@jupyter-widgets/controls",
      "model_module_version": "1.5.0",
      "model_name": "GridBoxModel",
      "state": {
       "children": [
        "IPY_MODEL_e3abde2ef8854ed3a4d878c310b28b38"
       ],
       "layout": "IPY_MODEL_3bcc15097e784892a0ffab9be7d4043f"
      }
     },
     "a573328401224ed69da7668269ee508b": {
      "model_module": "@jupyter-widgets/controls",
      "model_module_version": "1.5.0",
      "model_name": "DescriptionStyleModel",
      "state": {
       "description_width": ""
      }
     },
     "a63fbeeaa05942f7b45fed848b1f4fac": {
      "model_module": "@jupyter-widgets/controls",
      "model_module_version": "1.5.0",
      "model_name": "ButtonStyleModel",
      "state": {}
     },
     "ade8527eec9d4f40a19c6ecc7c55d9b2": {
      "model_module": "@jupyter-widgets/controls",
      "model_module_version": "1.5.0",
      "model_name": "DescriptionStyleModel",
      "state": {
       "description_width": ""
      }
     },
     "b97bb14dfa4d4f228c364f28561c65c9": {
      "model_module": "@jupyter-widgets/controls",
      "model_module_version": "1.5.0",
      "model_name": "DescriptionStyleModel",
      "state": {
       "description_width": ""
      }
     },
     "ca5e1efcda7a414bb0d810097cd3aa6e": {
      "model_module": "@jupyter-widgets/controls",
      "model_module_version": "1.5.0",
      "model_name": "DescriptionStyleModel",
      "state": {
       "description_width": ""
      }
     },
     "dd60a4d411b24328bf804b0ba3641c86": {
      "model_module": "@jupyter-widgets/base",
      "model_module_version": "1.2.0",
      "model_name": "LayoutModel",
      "state": {
       "grid_area": "right",
       "padding": "0px 0px 0px 0px",
       "width": "70px"
      }
     },
     "e2194362ebaa4640bbb394aa90817699": {
      "model_module": "@jupyter-widgets/controls",
      "model_module_version": "1.5.0",
      "model_name": "HBoxModel",
      "state": {
       "children": [
        "IPY_MODEL_5e43bc5e2c2848f8b8dc7c29eb724fcd",
        "IPY_MODEL_09294fd6bb264350885a15782e9d170c",
        "IPY_MODEL_538b6855baf44736a5887d3b4fdb09d1",
        "IPY_MODEL_758494e56a5d48cd87c96dca335cc0dd",
        "IPY_MODEL_e41abea36ff04c7d98e352e7134b42d8"
       ],
       "layout": "IPY_MODEL_3b44d1d1397e49d9966a6950a04580f5"
      }
     },
     "e3abde2ef8854ed3a4d878c310b28b38": {
      "model_module": "@jupyter-widgets/controls",
      "model_module_version": "1.5.0",
      "model_name": "ButtonModel",
      "state": {
       "button_style": "primary",
       "description": "Clear",
       "layout": "IPY_MODEL_dd60a4d411b24328bf804b0ba3641c86",
       "style": "IPY_MODEL_a63fbeeaa05942f7b45fed848b1f4fac"
      }
     },
     "e41abea36ff04c7d98e352e7134b42d8": {
      "model_module": "@jupyter-widgets/controls",
      "model_module_version": "1.5.0",
      "model_name": "HTMLModel",
      "state": {
       "layout": "IPY_MODEL_08975ff6ff4b4149bf7eb955e8d3d514",
       "style": "IPY_MODEL_ca5e1efcda7a414bb0d810097cd3aa6e",
       "value": "<h5>Message</h5>"
      }
     }
    },
    "version_major": 2,
    "version_minor": 0
   }
  }
 },
 "nbformat": 4,
 "nbformat_minor": 5
}
